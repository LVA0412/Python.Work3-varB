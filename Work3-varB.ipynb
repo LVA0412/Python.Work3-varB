{
 "cells": [
  {
   "cell_type": "markdown",
   "id": "09a05fbc",
   "metadata": {},
   "source": [
    "Индивидуальное задание для практики 7-8 (задание 3, вариант Б)\n",
    "Выполнил Лямкин В.А."
   ]
  },
  {
   "cell_type": "code",
   "execution_count": 1,
   "id": "291ed48f",
   "metadata": {},
   "outputs": [
    {
     "name": "stdout",
     "output_type": "stream",
     "text": [
      "Привет\n"
     ]
    }
   ],
   "source": [
    "print(\"Привет\")"
   ]
  },
  {
   "cell_type": "code",
   "execution_count": 3,
   "id": "80878ca5",
   "metadata": {},
   "outputs": [],
   "source": [
    "from tkinter import *  \n",
    "from tkinter.ttk import Combobox  \n",
    "  \n",
    "# Создаём объект Окно\n",
    "window = Tk()  \n",
    "window.title('Виджет-->Окно')  \n",
    "# размеры\n",
    "window.geometry('350x350')\n",
    "# подпись\n",
    "label1 = Label(window, text=\"Добрый день!\")  \n",
    "# положение на окне\n",
    "label1.grid(column=0, row=0)  \n",
    "# кнопка button\n",
    "knopka1 = Button(window, text=\"Первая кнопка\")\n",
    "knopka1.grid(column=3, row=1)\n",
    "window.mainloop()"
   ]
  },
  {
   "cell_type": "code",
   "execution_count": 4,
   "id": "067fa7dc",
   "metadata": {},
   "outputs": [],
   "source": [
    "from tkinter import *  \n",
    "from tkinter.ttk import Combobox  \n",
    "  \n",
    "# Создаём объект Окно\n",
    "window = Tk()  \n",
    "window.title('Виджет-->Окно')  \n",
    "# размеры\n",
    "window.geometry('350x350')\n",
    "# подпись\n",
    "label1 = Label(window, text=\"Добрый день!\")  \n",
    "# положение на окне\n",
    "label1.grid(column=0, row=0)  \n",
    "# кнопка button\n",
    "knopka1 = Button(window, text=\"Первая кнопка\")\n",
    "knopka1.grid(column=3, row=1)\n",
    "window.mainloop()"
   ]
  }
 ],
 "metadata": {
  "kernelspec": {
   "display_name": "Python 3 (ipykernel)",
   "language": "python",
   "name": "python3"
  },
  "language_info": {
   "codemirror_mode": {
    "name": "ipython",
    "version": 3
   },
   "file_extension": ".py",
   "mimetype": "text/x-python",
   "name": "python",
   "nbconvert_exporter": "python",
   "pygments_lexer": "ipython3",
   "version": "3.9.13"
  }
 },
 "nbformat": 4,
 "nbformat_minor": 5
}
